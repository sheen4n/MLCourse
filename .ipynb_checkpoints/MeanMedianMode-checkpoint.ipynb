{
 "cells": [
  {
   "cell_type": "markdown",
   "metadata": {},
   "source": [
    "# Mean, Median, Mode, and introducing NumPy"
   ]
  },
  {
   "cell_type": "markdown",
   "metadata": {},
   "source": [
    "## Mean vs. Median"
   ]
  },
  {
   "cell_type": "markdown",
   "metadata": {},
   "source": [
    "Let's create some fake income data, centered around 27,000 with a normal distribution and standard deviation of 15,000, with 10,000 data points. (We'll discuss those terms more later, if you're not familiar with them.)\n",
    "\n",
    "Then, compute the mean (average) - it should be close to 27,000:"
   ]
  },
  {
   "cell_type": "code",
   "execution_count": 9,
   "metadata": {},
   "outputs": [
    {
     "data": {
      "text/plain": [
       "26888.984346532845"
      ]
     },
     "execution_count": 9,
     "metadata": {},
     "output_type": "execute_result"
    }
   ],
   "source": [
    "import numpy as np\n",
    "\n",
    "incomes = np.random.normal(27000, 15000, 10000)\n",
    "np.mean(incomes)"
   ]
  },
  {
   "cell_type": "markdown",
   "metadata": {},
   "source": [
    "We can segment the income data into 50 buckets, and plot it as a histogram:"
   ]
  },
  {
   "cell_type": "code",
   "execution_count": 10,
   "metadata": {},
   "outputs": [
    {
     "data": {
      "image/png": "[encoded data removed]",
      "text/plain": [
       "<Figure size 432x288 with 1 Axes>"
      ]
     },
     "metadata": {
      "needs_background": "light"
     },
     "output_type": "display_data"
    }
   ],
   "source": [
    "%matplotlib inline\n",
    "import matplotlib.pyplot as plt\n",
    "plt.hist(incomes, 50)\n",
    "plt.show()"
   ]
  },
  {
   "cell_type": "markdown",
   "metadata": {},
   "source": [
    "Now compute the median - since we have a nice, even distribution it too should be close to 27,000:"
   ]
  },
  {
   "cell_type": "code",
   "execution_count": 11,
   "metadata": {},
   "outputs": [
    {
     "data": {
      "text/plain": [
       "26931.323787303638"
      ]
     },
     "execution_count": 11,
     "metadata": {},
     "output_type": "execute_result"
    }
   ],
   "source": [
    "np.median(incomes)"
   ]
  },
  {
   "cell_type": "markdown",
   "metadata": {},
   "source": [
    "Now we'll add Jeff Bezos into the mix. Darn income inequality!"
   ]
  },
  {
   "cell_type": "code",
   "execution_count": 12,
   "metadata": {},
   "outputs": [],
   "source": [
    "incomes = np.append(incomes, [1000000000])"
   ]
  },
  {
   "cell_type": "markdown",
   "metadata": {},
   "source": [
    "The median won't change much, but the mean does:"
   ]
  },
  {
   "cell_type": "code",
   "execution_count": 13,
   "metadata": {},
   "outputs": [
    {
     "data": {
      "text/plain": [
       "26932.303849696604"
      ]
     },
     "execution_count": 13,
     "metadata": {},
     "output_type": "execute_result"
    }
   ],
   "source": [
    "np.median(incomes)"
   ]
  },
  {
   "cell_type": "code",
   "execution_count": 15,
   "metadata": {},
   "outputs": [
    {
     "data": {
      "text/plain": [
       "126876.29671686118"
      ]
     },
     "execution_count": 15,
     "metadata": {},
     "output_type": "execute_result"
    }
   ],
   "source": [
    "np.mean(incomes)"
   ]
  },
  {
   "cell_type": "markdown",
   "metadata": {},
   "source": [
    "## Mode"
   ]
  },
  {
   "cell_type": "markdown",
   "metadata": {},
   "source": [
    "Next, let's generate some fake age data for 500 people:"
   ]
  },
  {
   "cell_type": "code",
   "execution_count": 16,
   "metadata": {},
   "outputs": [
    {
     "data": {
      "text/plain": [
       "array([72, 84, 41, 33, 71, 57, 74, 28, 32, 31, 22, 77, 82, 57, 35, 81, 45,\n",
       "       60, 78, 63, 66, 20, 39, 30, 66, 31, 65, 55, 89, 28, 67, 26, 54, 54,\n",
       "       70, 43, 67, 62, 56, 27, 33, 28, 82, 38, 76, 73, 33, 85, 35, 57, 62,\n",
       "       66, 82, 55, 47, 34, 68, 88, 46, 51, 28, 33, 74, 55, 23, 53, 26, 47,\n",
       "       57, 61, 60, 70, 41, 30, 36, 51, 78, 63, 23, 46, 71, 82, 66, 44, 60,\n",
       "       82, 61, 68, 73, 74, 22, 32, 75, 50, 61, 26, 67, 53, 48, 79, 47, 48,\n",
       "       86, 51, 74, 70, 49, 46, 26, 57, 25, 50, 31, 63, 39, 37, 74, 63, 74,\n",
       "       22, 32, 33, 25, 65, 47, 33, 61, 24, 30, 49, 53, 41, 75, 50, 24, 30,\n",
       "       71, 29, 61, 65, 32, 79, 22, 56, 68, 46, 59, 41, 36, 63, 74, 23, 22,\n",
       "       48, 29, 35, 56, 30, 52, 89, 42, 33, 64, 88, 80, 24, 61, 46, 25, 88,\n",
       "       24, 70, 71, 80, 85, 67, 29, 21, 75, 46, 35, 79, 44, 78, 60, 29, 72,\n",
       "       71, 48, 21, 74, 85, 57, 22, 73, 24, 69, 38, 75, 24, 66, 63, 44, 49,\n",
       "       57, 74, 22, 88, 48, 33, 58, 22, 53, 32, 74, 27, 83, 32, 54, 42, 36,\n",
       "       44, 34, 22, 71, 82, 22, 42, 64, 86, 25, 70, 56, 23, 23, 35, 56, 60,\n",
       "       85, 77, 59, 51, 89, 34, 36, 38, 35, 51, 58, 73, 69, 46, 84, 23, 43,\n",
       "       37, 73, 31, 22, 54, 48, 57, 46, 59, 48, 75, 53, 79, 64, 29, 34, 71,\n",
       "       89, 63, 68, 22, 45, 39, 52, 77, 26, 37, 47, 58, 87, 18, 74, 65, 80,\n",
       "       53, 39, 42, 78, 54, 52, 25, 69, 45, 89, 21, 22, 57, 74, 43, 18, 89,\n",
       "       77, 51, 42, 57, 40, 40, 23, 35, 78, 69, 80, 34, 61, 56, 20, 51, 38,\n",
       "       42, 74, 41, 46, 73, 46, 75, 67, 47, 76, 54, 64, 21, 21, 49, 71, 71,\n",
       "       84, 33, 30, 54, 34, 28, 67, 42, 33, 70, 73, 37, 66, 26, 68, 45, 49,\n",
       "       29, 47, 37, 69, 83, 29, 83, 84, 64, 50, 35, 70, 41, 46, 33, 57, 19,\n",
       "       23, 25, 49, 63, 56, 71, 26, 42, 44, 31, 71, 36, 73, 65, 27, 89, 19,\n",
       "       34, 27, 79, 77, 69, 39, 65, 20, 44, 62, 51, 73, 18, 22, 44, 61, 71,\n",
       "       52, 76, 54, 24, 80, 57, 66, 38, 25, 29, 65, 72, 38, 43, 87, 40, 80,\n",
       "       80, 47, 28, 21, 21, 47, 37, 42, 55, 87, 32, 61, 51, 43, 40, 33, 68,\n",
       "       61, 54, 68, 20, 51, 32, 29, 30, 44, 67, 71, 23, 45, 59, 53, 48, 56,\n",
       "       47, 70, 58, 19, 31, 70, 88, 44, 24, 22, 81, 37, 71, 54, 60, 54, 79,\n",
       "       88, 53, 48, 71, 39, 59, 45, 61, 78, 34, 20, 29, 65, 23, 46, 79, 37,\n",
       "       27, 37, 29, 29, 78, 84, 38])"
      ]
     },
     "execution_count": 16,
     "metadata": {},
     "output_type": "execute_result"
    }
   ],
   "source": [
    "ages = np.random.randint(18, high=90, size=500)\n",
    "ages"
   ]
  },
  {
   "cell_type": "code",
   "execution_count": 18,
   "metadata": {},
   "outputs": [
    {
     "data": {
      "text/plain": [
       "ModeResult(mode=array([22]), count=array([15]))"
      ]
     },
     "execution_count": 18,
     "metadata": {},
     "output_type": "execute_result"
    }
   ],
   "source": [
    "from scipy import stats\n",
    "stats.mode(ages)"
   ]
  },
  {
   "cell_type": "code",
   "execution_count": null,
   "metadata": {},
   "outputs": [],
   "source": []
  }
 ],
 "metadata": {
  "kernelspec": {
   "display_name": "Python 3",
   "language": "python",
   "name": "python3"
  },
  "language_info": {
   "codemirror_mode": {
    "name": "ipython",
    "version": 3
   },
   "file_extension": ".py",
   "mimetype": "text/x-python",
   "name": "python",
   "nbconvert_exporter": "python",
   "pygments_lexer": "ipython3",
   "version": "3.7.3"
  }
 },
 "nbformat": 4,
 "nbformat_minor": 1
}
